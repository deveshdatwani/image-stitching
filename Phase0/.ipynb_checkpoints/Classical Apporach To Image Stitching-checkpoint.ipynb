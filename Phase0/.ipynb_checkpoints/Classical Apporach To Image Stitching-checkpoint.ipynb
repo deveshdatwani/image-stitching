{
 "cells": [
  {
   "cell_type": "code",
   "execution_count": 1,
   "id": "fad2083d",
   "metadata": {},
   "outputs": [],
   "source": [
    "# Import libraries\n",
    "import cv2\n",
    "from matplotlib import pyplot as plt\n",
    "from copy import deepcopy\n",
    "from scipy.ndimage import maximum_filter\n",
    "from tqdm import tqdm\n",
    "import numpy as np\n",
    "import copy"
   ]
  },
  {
   "cell_type": "code",
   "execution_count": 2,
   "id": "04308ce7",
   "metadata": {},
   "outputs": [],
   "source": [
    "# Image address\n",
    "\n",
    "img1_ad = \"/home/deveshdatwani/Stitching/Phase1/Data/Train/image_one.jpg\"\n",
    "img2_ad = \"/home/deveshdatwani/Stitching/Phase1/Data/Train/image_two.jpg\""
   ]
  },
  {
   "cell_type": "code",
   "execution_count": 3,
   "id": "235a7ada",
   "metadata": {},
   "outputs": [],
   "source": [
    "# Reading images\n",
    "\n",
    "IMG1 = cv2.resize(cv2.imread(img1_ad, 0), (300,300))\n",
    "IMG2 = cv2.resize(cv2.imread(img2_ad, 0), (300,300))"
   ]
  },
  {
   "cell_type": "code",
   "execution_count": 4,
   "id": "253f8302",
   "metadata": {},
   "outputs": [],
   "source": [
    "# Carrying out corner detection\n",
    "\n",
    "dst1 = cv2.cornerHarris(IMG1, 10, 1, 0.2)\n",
    "dst2 = cv2.cornerHarris(IMG2, 10, 1, 0.2)\n",
    "\n",
    "dst1 = cv2.dilate(dst1, None)\n",
    "dst2 = cv2.dilate(dst2, None)"
   ]
  },
  {
   "cell_type": "code",
   "execution_count": null,
   "id": "65811003",
   "metadata": {},
   "outputs": [],
   "source": [
    "# Adaptive Non-Maximal Suppression (ANMS)\n",
    "\n",
    "def ANMS(image, distImg, MBEST=100):\n",
    "    imageCopy = deepcopy(image)\n",
    "    localMaximas = maximum_filter(distImg, size=200)\n",
    "    mask = (localMaximas == distImg)\n",
    "    mask2 = (distImg > 0)\n",
    "    finMask = np.logical_and(mask, mask2)\n",
    "    indices = np.argwhere(finMask==True)\n",
    "    R  = float('inf') * np.ones((indices.shape[0]))\n",
    "    ED = 0\n",
    "    \n",
    "    for i in tqdm(range(len(R)), total=len(R)):\n",
    "        for j in range(len(R)):\n",
    "            xi, yi = indices[i]\n",
    "            xj, yj = indices[j]\n",
    "            \n",
    "            if dst1[xi,yi] > dst1[xj, yj]:\n",
    "                ED = (xi-xj)**2 +(yi-yj)**2\n",
    "            if ED < R[i]:\n",
    "                R[i] = ED\n",
    "    \n",
    "    tempR = np.argsort(-R)\n",
    "    \n",
    "    return indices[tempR[:MBEST]]"
   ]
  },
  {
   "cell_type": "code",
   "execution_count": null,
   "id": "6dabc5d1",
   "metadata": {},
   "outputs": [],
   "source": [
    "# Visualize best points with non-solid cicrles\n",
    "\n",
    "def visualizeBestPoints(img1):\n",
    "    for x,y in maxPoints:\n",
    "        x_i=y\n",
    "        y_i=x\n",
    "        cv2.circle(img1,(x_i, y_i),10,(0,255,0),-1)\n",
    "    \n",
    "    return None"
   ]
  },
  {
   "cell_type": "code",
   "execution_count": null,
   "id": "8a85a6c1",
   "metadata": {},
   "outputs": [],
   "source": [
    "# Extract features from neighboring pixels of corners \n",
    "\n",
    "def extractFeatures(bestPoints, image):\n",
    "    paddedImage = np.pad(image, 20)\n",
    "    features = []\n",
    "    Xx = 40\n",
    "    Yy = 40 \n",
    "    for eachPoint in bestPoints:\n",
    "        x, y = eachPoint\n",
    "        imagePatch = paddedImage[x:x+Xx, y:y+Yy]\n",
    "        bluredPatch = cv2.GaussianBlur(imagePatch, (3,3), cv2.BORDER_DEFAULT)\n",
    "        subsamplePatch = bluredPatch[::5,::5]\n",
    "        oneFeature = np.reshape(subsamplePatch, (64,1))\n",
    "        features.append(oneFeature)\n",
    "    \n",
    "    features = np.array(features)\n",
    "    (features - features.mean()) / features.std() \n",
    "    \n",
    "    return features"
   ]
  },
  {
   "cell_type": "code",
   "execution_count": null,
   "id": "36573725",
   "metadata": {},
   "outputs": [],
   "source": [
    "bestPoints1 = ANMS(img1, dst1)\n",
    "bestPoints2 = ANMS(img2, dst2)"
   ]
  },
  {
   "cell_type": "code",
   "execution_count": null,
   "id": "01566d41",
   "metadata": {},
   "outputs": [],
   "source": [
    "featuresFromImage1 = extractFeatures(bestPoints1, img1)\n",
    "featuresFromImage2 = extractFeatures(bestPoints2, img2)"
   ]
  }
 ],
 "metadata": {
  "kernelspec": {
   "display_name": "Python 3 (ipykernel)",
   "language": "python",
   "name": "python3"
  },
  "language_info": {
   "codemirror_mode": {
    "name": "ipython",
    "version": 3
   },
   "file_extension": ".py",
   "mimetype": "text/x-python",
   "name": "python",
   "nbconvert_exporter": "python",
   "pygments_lexer": "ipython3",
   "version": "3.8.10"
  }
 },
 "nbformat": 4,
 "nbformat_minor": 5
}
